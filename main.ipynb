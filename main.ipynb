{
 "cells": [
  {
   "cell_type": "code",
   "execution_count": 1,
   "id": "536ded49-b974-4340-a44a-210ae8fc6a11",
   "metadata": {},
   "outputs": [
    {
     "name": "stderr",
     "output_type": "stream",
     "text": [
      "<string>:48: FutureWarning: You are using `torch.load` with `weights_only=False` (the current default value), which uses the default pickle module implicitly. It is possible to construct malicious pickle data which will execute arbitrary code during unpickling (See https://github.com/pytorch/pytorch/blob/main/SECURITY.md#untrusted-models for more details). In a future release, the default value for `weights_only` will be flipped to `True`. This limits the functions that could be executed during unpickling. Arbitrary objects will no longer be allowed to be loaded via this mode unless they are explicitly allowlisted by the user via `torch.serialization.add_safe_globals`. We recommend you start setting `weights_only=True` for any use case where you don't have full control of the loaded file. Please open an issue on GitHub for any issues related to this experimental feature.\n"
     ]
    },
    {
     "name": "stdout",
     "output_type": "stream",
     "text": [
      "Initializing webcam...\n",
      "Press 'c' to capture a photo.\n",
      "\u001b[1m1/1\u001b[0m \u001b[32m━━━━━━━━━━━━━━━━━━━━\u001b[0m\u001b[37m\u001b[0m \u001b[1m0s\u001b[0m 207ms/step\n"
     ]
    },
    {
     "name": "stderr",
     "output_type": "stream",
     "text": [
      "C:\\Users\\reeva\\AppData\\Local\\Programs\\Python\\Python312\\Lib\\site-packages\\sklearn\\base.py:493: UserWarning: X does not have valid feature names, but RandomForestClassifier was fitted with feature names\n",
      "  warnings.warn(\n"
     ]
    },
    {
     "name": "stdout",
     "output_type": "stream",
     "text": [
      "\n",
      "--- Emotion Detection Results ---\n",
      "Face Emotion Results: {'Happy': 0.4610587733430221, 'Sad': 0.0, 'Neutral': 0.0, 'Angry': 0.0, 'Relaxed': 0.0, 'Stressed': 0.48163053120089505, 'Bored': 0.05731069545608287}\n",
      "LSTM Emotion Results: {'Happy': 0.13950648280204164, 'Sad': 0.0, 'Neutral': 0.0, 'Angry': 0.0, 'Relaxed': 0.49308119000131534, 'Stressed': 0.14071115222374414, 'Bored': 0.22670117497289888}\n",
      "Sleep Emotion Results: {'Happy': 1.0, 'Sad': 0.0, 'Neutral': 0.0, 'Angry': 0.0, 'Relaxed': 0.0, 'Stressed': 0.0, 'Bored': 0.0}\n",
      "Combined Results: {'Happy': 0.5045365605662215, 'Sad': 0.0, 'Neutral': 0.0, 'Angry': 0.0, 'Relaxed': 0.09861623800026308, 'Stressed': 0.31712054916528587, 'Bored': 0.0797266522682295}\n",
      "Final Emotion: Happy\n",
      "\n",
      "Detected Emotion: Happy\n",
      "Starting Emotion Detection...\n",
      "Initializing webcam...\n",
      "Press 'c' to capture a photo.\n",
      "\u001b[1m1/1\u001b[0m \u001b[32m━━━━━━━━━━━━━━━━━━━━\u001b[0m\u001b[37m\u001b[0m \u001b[1m0s\u001b[0m 48ms/step\n"
     ]
    },
    {
     "name": "stderr",
     "output_type": "stream",
     "text": [
      "C:\\Users\\reeva\\AppData\\Local\\Programs\\Python\\Python312\\Lib\\site-packages\\sklearn\\base.py:493: UserWarning: X does not have valid feature names, but RandomForestClassifier was fitted with feature names\n",
      "  warnings.warn(\n"
     ]
    },
    {
     "name": "stdout",
     "output_type": "stream",
     "text": [
      "\n",
      "--- Emotion Detection Results ---\n",
      "Face Emotion Results: {'Happy': 0.11006375845197386, 'Sad': 0.0, 'Neutral': 0.0, 'Angry': 0.0, 'Relaxed': 0.0, 'Stressed': 0.8112896800299025, 'Bored': 0.07864656151812364}\n",
      "LSTM Emotion Results: {'Happy': 0.13950648280204164, 'Sad': 0.0, 'Neutral': 0.0, 'Angry': 0.0, 'Relaxed': 0.49308119000131534, 'Stressed': 0.14071115222374414, 'Bored': 0.22670117497289888}\n",
      "Sleep Emotion Results: {'Happy': 1.0, 'Sad': 0.0, 'Neutral': 0.0, 'Angry': 0.0, 'Relaxed': 0.0, 'Stressed': 0.0, 'Bored': 0.0}\n",
      "Combined Results: {'Happy': 0.2939395516315927, 'Sad': 0.0, 'Neutral': 0.0, 'Angry': 0.0, 'Relaxed': 0.09861623800026308, 'Stressed': 0.5149160384626903, 'Bored': 0.09252817190545397}\n",
      "Final Emotion: Stressed\n",
      "Detected Emotion: Stressed\n"
     ]
    },
    {
     "name": "stdin",
     "output_type": "stream",
     "text": [
      "You seem Stressed. Would you like me to create a playlist for you? (yes/no):  yes\n"
     ]
    },
    {
     "name": "stdout",
     "output_type": "stream",
     "text": [
      "Your playlist 'Stressed Vibes' has been created! Enjoy!\n"
     ]
    }
   ],
   "source": [
    "import import_ipynb\n",
    "from Emotion_Detection import run_emotion_detection\n",
    "from music_recommendation import create_spotify_playlist\n",
    "\n",
    "def main():\n",
    "    print(\"Starting Emotion Detection...\")\n",
    "    detected_emotion = run_emotion_detection()\n",
    "    print(f\"Detected Emotion: {detected_emotion}\")\n",
    "\n",
    "    user_choice = input(f\"You seem {detected_emotion}. Would you like me to create a playlist for you? (yes/no): \").strip().lower()\n",
    "    if user_choice == \"yes\":\n",
    "        playlist_name = create_spotify_playlist(detected_emotion)\n",
    "        print(f\"Your playlist '{playlist_name}' has been created! Enjoy!\")\n",
    "    else:\n",
    "        print(\"No playlist created. Have a nice day!\")\n",
    "\n",
    "if __name__ == \"__main__\":\n",
    "    main()\n"
   ]
  },
  {
   "cell_type": "code",
   "execution_count": 1,
   "id": "61cdd0e6-188a-43c2-bc15-28d8b07dc5e1",
   "metadata": {
    "scrolled": true
   },
   "outputs": [
    {
     "name": "stderr",
     "output_type": "stream",
     "text": [
      "<string>:48: FutureWarning: You are using `torch.load` with `weights_only=False` (the current default value), which uses the default pickle module implicitly. It is possible to construct malicious pickle data which will execute arbitrary code during unpickling (See https://github.com/pytorch/pytorch/blob/main/SECURITY.md#untrusted-models for more details). In a future release, the default value for `weights_only` will be flipped to `True`. This limits the functions that could be executed during unpickling. Arbitrary objects will no longer be allowed to be loaded via this mode unless they are explicitly allowlisted by the user via `torch.serialization.add_safe_globals`. We recommend you start setting `weights_only=True` for any use case where you don't have full control of the loaded file. Please open an issue on GitHub for any issues related to this experimental feature.\n"
     ]
    },
    {
     "name": "stdout",
     "output_type": "stream",
     "text": [
      "Initializing webcam...\n",
      "Press 'c' to capture a photo.\n",
      "\u001b[1m1/1\u001b[0m \u001b[32m━━━━━━━━━━━━━━━━━━━━\u001b[0m\u001b[37m\u001b[0m \u001b[1m0s\u001b[0m 261ms/step\n"
     ]
    },
    {
     "name": "stderr",
     "output_type": "stream",
     "text": [
      "C:\\Users\\reeva\\AppData\\Local\\Programs\\Python\\Python312\\Lib\\site-packages\\sklearn\\base.py:493: UserWarning: X does not have valid feature names, but RandomForestClassifier was fitted with feature names\n",
      "  warnings.warn(\n"
     ]
    },
    {
     "name": "stdout",
     "output_type": "stream",
     "text": [
      "\n",
      "--- Emotion Detection Results ---\n",
      "Face Emotion Results: {'Happy': 0.11790440816828798, 'Sad': 0.0, 'Neutral': 0.0, 'Angry': 0.0, 'Relaxed': 0.0, 'Stressed': 0.8528139476119289, 'Bored': 0.029281644219783128}\n",
      "LSTM Emotion Results: {'Happy': 0.13950648280204164, 'Sad': 0.0, 'Neutral': 0.0, 'Angry': 0.0, 'Relaxed': 0.49308119000131534, 'Stressed': 0.14071115222374414, 'Bored': 0.22670117497289888}\n",
      "Sleep Emotion Results: {'Happy': 1.0, 'Sad': 0.0, 'Neutral': 0.0, 'Angry': 0.0, 'Relaxed': 0.0, 'Stressed': 0.0, 'Bored': 0.0}\n",
      "Combined Results: {'Happy': 0.2986439414613811, 'Sad': 0.0, 'Neutral': 0.0, 'Angry': 0.0, 'Relaxed': 0.09861623800026308, 'Stressed': 0.5398305990119061, 'Bored': 0.06290922152644965}\n",
      "Final Emotion: Stressed\n",
      "\n",
      "Detected Emotion: Stressed\n",
      "Before we begin, we need your permission to proceed with the following:\n",
      "Starting Emotion Detection...\n",
      "Initializing webcam...\n",
      "Press 'c' to capture a photo.\n",
      "\u001b[1m1/1\u001b[0m \u001b[32m━━━━━━━━━━━━━━━━━━━━\u001b[0m\u001b[37m\u001b[0m \u001b[1m0s\u001b[0m 69ms/step\n"
     ]
    },
    {
     "name": "stderr",
     "output_type": "stream",
     "text": [
      "C:\\Users\\reeva\\AppData\\Local\\Programs\\Python\\Python312\\Lib\\site-packages\\sklearn\\base.py:493: UserWarning: X does not have valid feature names, but RandomForestClassifier was fitted with feature names\n",
      "  warnings.warn(\n"
     ]
    },
    {
     "name": "stdout",
     "output_type": "stream",
     "text": [
      "\n",
      "--- Emotion Detection Results ---\n",
      "Face Emotion Results: {'Happy': 0.07459726065905768, 'Sad': 0.0, 'Neutral': 0.0, 'Angry': 0.0, 'Relaxed': 0.0, 'Stressed': 0.9022665709879658, 'Bored': 0.02313616835297649}\n",
      "LSTM Emotion Results: {'Happy': 0.13950648280204164, 'Sad': 0.0, 'Neutral': 0.0, 'Angry': 0.0, 'Relaxed': 0.49308119000131534, 'Stressed': 0.14071115222374414, 'Bored': 0.22670117497289888}\n",
      "Sleep Emotion Results: {'Happy': 1.0, 'Sad': 0.0, 'Neutral': 0.0, 'Angry': 0.0, 'Relaxed': 0.0, 'Stressed': 0.0, 'Bored': 0.0}\n",
      "Combined Results: {'Happy': 0.27265965295584293, 'Sad': 0.0, 'Neutral': 0.0, 'Angry': 0.0, 'Relaxed': 0.09861623800026308, 'Stressed': 0.5695021730375283, 'Bored': 0.059221936006365675}\n",
      "Final Emotion: Stressed\n",
      "Detected Emotion: Stressed\n",
      "Your playlist 'Ambient Vibes' has been created! Enjoy!\n"
     ]
    }
   ],
   "source": [
    "import import_ipynb\n",
    "from Emotion_Detection import run_emotion_detection\n",
    "from music_recommendation import create_spotify_playlist\n",
    "import tkinter as tk\n",
    "from tkinter import messagebox\n",
    "\n",
    "\n",
    "def ask_permission(prompt):\n",
    "    \"\"\"\n",
    "    Display a Yes/No dialog box for permission requests.\n",
    "    Returns True if the user presses \"Yes\", False otherwise.\n",
    "    \"\"\"\n",
    "    response = messagebox.askyesno(\"Permission Request\", prompt)\n",
    "    return response\n",
    "\n",
    "\n",
    "def main():\n",
    "    # Initialize tkinter root\n",
    "    root = tk.Tk()\n",
    "    root.withdraw()  # Hide the main tkinter window\n",
    "\n",
    "    # Step 1: Ask for permissions using Yes/No buttons\n",
    "    print(\"Before we begin, we need your permission to proceed with the following:\")\n",
    "\n",
    "    # Asking for photo capture permission\n",
    "    if not ask_permission(\"Do you allow us to capture a photo to detect your facial emotions?\"):\n",
    "        print(\"Permission for photo capture denied. Exiting journey.\")\n",
    "        return\n",
    "\n",
    "    # Asking for wearable device permission\n",
    "    if not ask_permission(\"Do you allow us to access your ECG and respiratory levels from your wearable device?\"):\n",
    "        print(\"Permission to access ECG and respiratory levels denied. Exiting journey.\")\n",
    "        return\n",
    "\n",
    "    # Asking for app sleep pattern permission\n",
    "    if not ask_permission(\"Do you allow us to access your sleep pattern data from the app?\"):\n",
    "        print(\"Permission to access sleep pattern data denied. Exiting journey.\")\n",
    "        return\n",
    "\n",
    "    # Step 2: Proceed with emotion detection if all permissions are granted\n",
    "    print(\"Starting Emotion Detection...\")\n",
    "    detected_emotion = run_emotion_detection()\n",
    "    print(f\"Detected Emotion: {detected_emotion}\")\n",
    "\n",
    "    # Step 3: Ask user if they want a playlist using Yes/No buttons\n",
    "    if ask_permission(f\"You seem {detected_emotion}. Would you like me to create a playlist for you?\"):\n",
    "        playlist_name = create_spotify_playlist(detected_emotion)\n",
    "        print(f\"Your playlist '{playlist_name}' has been created! Enjoy!\")\n",
    "    else:\n",
    "        print(\"No playlist created. Have a nice day!\")\n",
    "\n",
    "\n",
    "if __name__ == \"__main__\":\n",
    "    main()"
   ]
  },
  {
   "cell_type": "code",
   "execution_count": null,
   "id": "4f93f7fe-4ab8-482b-86ff-2c83fed734a7",
   "metadata": {},
   "outputs": [],
   "source": []
  }
 ],
 "metadata": {
  "kernelspec": {
   "display_name": "Python 3 (ipykernel)",
   "language": "python",
   "name": "python3"
  },
  "language_info": {
   "codemirror_mode": {
    "name": "ipython",
    "version": 3
   },
   "file_extension": ".py",
   "mimetype": "text/x-python",
   "name": "python",
   "nbconvert_exporter": "python",
   "pygments_lexer": "ipython3",
   "version": "3.12.0"
  }
 },
 "nbformat": 4,
 "nbformat_minor": 5
}
