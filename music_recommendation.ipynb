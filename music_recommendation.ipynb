{
 "cells": [
  {
   "cell_type": "markdown",
   "id": "7f103f5d-b9b5-4f4c-bdba-e3ca32888a14",
   "metadata": {},
   "source": [
    "# Music Recommendation Module"
   ]
  },
  {
   "cell_type": "code",
   "execution_count": 4,
   "id": "24857dbd-33bb-41b0-a340-01483ab42bb6",
   "metadata": {},
   "outputs": [],
   "source": [
    "# music_recommendation.py\n",
    "import import_ipynb\n",
    "from Emotion_Detection import run_emotion_detection\n",
    "import spotipy\n",
    "from spotipy.oauth2 import SpotifyOAuth\n",
    "import warnings\n",
    "\n",
    "warnings.filterwarnings(\"ignore\")  # Suppress all warnings\n",
    "\n",
    "SPOTIFY_CLIENT_ID = 'b8e0babae72046f3a869656aaf31d5e5'\n",
    "SPOTIFY_CLIENT_SECRET = '920b60a81013499eaa098e068e26847a'\n",
    "SPOTIFY_REDIRECT_URI = 'http://localhost:8901/callback'\n",
    "\n",
    "emotion_to_genre = {\n",
    "    \"Happy\": \"pop\",\n",
    "    \"Sad\": \"acoustic\",\n",
    "    \"Neutral\": \"indie\",\n",
    "    \"Angry\": \"rock\",\n",
    "    \"Relaxed\": \"chill\",\n",
    "    \"Stressed\": \"ambient\",\n",
    "    \"Bored\": \"classical\"\n",
    "}\n",
    "\n",
    "def create_spotify_playlist(emotion):\n",
    "    sp = spotipy.Spotify(auth_manager=SpotifyOAuth(\n",
    "        client_id=SPOTIFY_CLIENT_ID,\n",
    "        client_secret=SPOTIFY_CLIENT_SECRET,\n",
    "        redirect_uri=SPOTIFY_REDIRECT_URI,\n",
    "        scope=\"playlist-modify-private\"\n",
    "    ))\n",
    "\n",
    "    # Fetch the user ID\n",
    "    user_id = sp.me()[\"id\"]\n",
    "    \n",
    "    # Get the genre based on the emotion\n",
    "    genre = emotion_to_genre.get(emotion, \"pop\")\n",
    "    \n",
    "    # Name the playlist based on the genre\n",
    "    playlist_name = f\"{genre.capitalize()} Vibes\"\n",
    "    playlist_description = f\"A playlist featuring the best of {genre} music.\"\n",
    "\n",
    "    # Create the playlist\n",
    "    playlist = sp.user_playlist_create(user_id, playlist_name, public=False, description=playlist_description)\n",
    "    \n",
    "    # Search for tracks based on the genre\n",
    "    track_results = sp.search(q=f\"genre:{genre}\", type=\"track\", limit=10)\n",
    "    track_uris = [track[\"uri\"] for track in track_results[\"tracks\"][\"items\"]]\n",
    "\n",
    "    # Add tracks to the playlist\n",
    "    sp.user_playlist_add_tracks(user_id, playlist[\"id\"], track_uris)\n",
    "    \n",
    "    return playlist_name\n"
   ]
  },
  {
   "cell_type": "code",
   "execution_count": 13,
   "id": "75f1dd57-c8b1-4c72-8be6-394806f675db",
   "metadata": {},
   "outputs": [
    {
     "name": "stdout",
     "output_type": "stream",
     "text": [
      "Starting Emotion Detection...\n",
      "Initializing webcam...\n",
      "Press 'c' to capture a photo.\n",
      "\u001b[1m1/1\u001b[0m \u001b[32m━━━━━━━━━━━━━━━━━━━━\u001b[0m\u001b[37m\u001b[0m \u001b[1m0s\u001b[0m 89ms/step\n",
      "\n",
      "--- Emotion Detection Results ---\n",
      "Face Emotion Results: {'Happy': 0.17718810792388717, 'Sad': 0.0, 'Neutral': 0.0, 'Angry': 0.0, 'Relaxed': 0.0, 'Stressed': 0.7678793845291231, 'Bored': 0.05493250754698974}\n",
      "LSTM Emotion Results: {'Happy': 0.13950648280204164, 'Sad': 0.0, 'Neutral': 0.0, 'Angry': 0.0, 'Relaxed': 0.49308119000131534, 'Stressed': 0.14071115222374414, 'Bored': 0.22670117497289888}\n",
      "Sleep Emotion Results: {'Happy': 1.0, 'Sad': 0.0, 'Neutral': 0.0, 'Angry': 0.0, 'Relaxed': 0.0, 'Stressed': 0.0, 'Bored': 0.0}\n",
      "Combined Results: {'Happy': 0.4127271880101674, 'Sad': 0.0, 'Neutral': 0.0, 'Angry': 0.0, 'Relaxed': 0.1479243570003946, 'Stressed': 0.34936509947877253, 'Bored': 0.08998335551066557}\n",
      "Final Emotion: Happy\n",
      "Your playlist 'Pop Vibes' has been created! Enjoy!\n"
     ]
    }
   ],
   "source": [
    "import warnings\n",
    "def main():\n",
    "    warnings.filterwarnings(\"ignore\")  # Suppress all warnings\n",
    "    print(\"Starting Emotion Detection...\")\n",
    "    detected_emotion = run_emotion_detection()\n",
    "    #print(f\"Detected Emotion: {detected_emotion}\")\n",
    "\n",
    "    #user_choice = input(f\"You seem {detected_emotion}. Would you like me to create a playlist for you? (yes/no): \").strip().lower()\n",
    "    #if user_choice == \"yes\":\n",
    "    playlist_name = create_spotify_playlist(detected_emotion)\n",
    "    print(f\"Your playlist '{playlist_name}' has been created! Enjoy!\")\n",
    "    #else:\n",
    "     #   print(\"No playlist created. Have a nice day!\")\n",
    "\n",
    "if __name__ == \"__main__\":\n",
    "    main()"
   ]
  },
  {
   "cell_type": "code",
   "execution_count": null,
   "id": "14d995fc-25b6-47c7-8ad5-8d88016ce393",
   "metadata": {},
   "outputs": [],
   "source": []
  }
 ],
 "metadata": {
  "kernelspec": {
   "display_name": "Python 3 (ipykernel)",
   "language": "python",
   "name": "python3"
  },
  "language_info": {
   "codemirror_mode": {
    "name": "ipython",
    "version": 3
   },
   "file_extension": ".py",
   "mimetype": "text/x-python",
   "name": "python",
   "nbconvert_exporter": "python",
   "pygments_lexer": "ipython3",
   "version": "3.12.0"
  }
 },
 "nbformat": 4,
 "nbformat_minor": 5
}
